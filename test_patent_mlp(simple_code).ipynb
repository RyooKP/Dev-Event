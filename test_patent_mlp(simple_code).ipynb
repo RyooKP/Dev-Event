{
  "nbformat": 4,
  "nbformat_minor": 0,
  "metadata": {
    "colab": {
      "name": "test_patent_mlp(simple code).ipynb",
      "provenance": [],
      "collapsed_sections": [],
      "include_colab_link": true
    },
    "kernelspec": {
      "name": "python3",
      "display_name": "Python 3"
    },
    "language_info": {
      "name": "python"
    },
    "accelerator": "GPU",
    "gpuClass": "standard"
  },
  "cells": [
    {
      "cell_type": "markdown",
      "metadata": {
        "id": "view-in-github",
        "colab_type": "text"
      },
      "source": [
        "<a href=\"https://colab.research.google.com/github/RyooKP/Dev-Event/blob/master/test_patent_mlp(simple_code).ipynb\" target=\"_parent\"><img src=\"https://colab.research.google.com/assets/colab-badge.svg\" alt=\"Open In Colab\"/></a>"
      ]
    },
    {
      "cell_type": "code",
      "execution_count": 1,
      "metadata": {
        "id": "ydFnMhw_yX4V"
      },
      "outputs": [],
      "source": [
        "\"\"\"\n",
        "Title: Multi-label text classification\n",
        "Description: Implementing a Multi-label text classification model.\n",
        "\"\"\"\n",
        "\"\"\"\n",
        "## Introduction\n",
        "\n",
        "The dataset was collected using the\n",
        "[`arXiv` Python library](https://github.com/lukasschwab/arxiv.py)\n",
        "\n",
        "that provides a wrapper around the\n",
        "[original arXiv API](http://arxiv.org/help/api/index).\n",
        "\n",
        "To learn more about the data collection process, please refer to\n",
        "[this notebook](https://github.com/soumik12345/multi-label-text-classification/blob/master/arxiv_scrape.ipynb).\n",
        "\n",
        "Additionally, you can also find the dataset on\n",
        "[Kaggle](https://www.kaggle.com/spsayakpaul/arxiv-paper-abstracts).\n",
        "\"\"\"\n",
        "\n",
        "\"\"\"\n",
        "## Imports\n",
        "\"\"\"\n",
        "\n",
        "from tensorflow.keras import layers\n",
        "from tensorflow import keras\n",
        "import tensorflow as tf\n",
        "\n",
        "from sklearn.model_selection import train_test_split\n",
        "from ast import literal_eval\n",
        "\n",
        "import matplotlib.pyplot as plt\n",
        "import pandas as pd\n",
        "import numpy as np\n",
        "\n"
      ]
    },
    {
      "cell_type": "code",
      "source": [
        "\"\"\"\n",
        "Connet Google Drive\n",
        "\"\"\"\n",
        "\n",
        "from google.colab import drive\n",
        "drive.mount('/content/drive')\n",
        "\n",
        "\"\"\"\n",
        "Check nvidia-smi\n",
        "\"\"\"\n",
        "!nvidia-smi"
      ],
      "metadata": {
        "id": "K79tYVfHs9x8",
        "colab": {
          "base_uri": "https://localhost:8080/"
        },
        "outputId": "205e6c98-17af-43d3-fa5f-2cf352efd72e"
      },
      "execution_count": 2,
      "outputs": [
        {
          "output_type": "stream",
          "name": "stdout",
          "text": [
            "Drive already mounted at /content/drive; to attempt to forcibly remount, call drive.mount(\"/content/drive\", force_remount=True).\n",
            "Tue Jun 21 05:15:43 2022       \n",
            "+-----------------------------------------------------------------------------+\n",
            "| NVIDIA-SMI 460.32.03    Driver Version: 460.32.03    CUDA Version: 11.2     |\n",
            "|-------------------------------+----------------------+----------------------+\n",
            "| GPU  Name        Persistence-M| Bus-Id        Disp.A | Volatile Uncorr. ECC |\n",
            "| Fan  Temp  Perf  Pwr:Usage/Cap|         Memory-Usage | GPU-Util  Compute M. |\n",
            "|                               |                      |               MIG M. |\n",
            "|===============================+======================+======================|\n",
            "|   0  Tesla T4            Off  | 00000000:00:04.0 Off |                    0 |\n",
            "| N/A   40C    P8    10W /  70W |      0MiB / 15109MiB |      0%      Default |\n",
            "|                               |                      |                  N/A |\n",
            "+-------------------------------+----------------------+----------------------+\n",
            "                                                                               \n",
            "+-----------------------------------------------------------------------------+\n",
            "| Processes:                                                                  |\n",
            "|  GPU   GI   CI        PID   Type   Process name                  GPU Memory |\n",
            "|        ID   ID                                                   Usage      |\n",
            "|=============================================================================|\n",
            "|  No running processes found                                                 |\n",
            "+-----------------------------------------------------------------------------+\n"
          ]
        }
      ]
    },
    {
      "cell_type": "code",
      "source": [
        "\"\"\"\n",
        "## Perform exploratory data analysis\n",
        "In this section, we first load the dataset into a `pandas` dataframe and then perform\n",
        "some basic exploratory data analysis (EDA).\n",
        "\"\"\"\n",
        "arxiv_data = pd.read_csv(\n",
        "    \"/content/drive/My Drive/aidisplay/seoyeon/train_en.csv\"\n",
        "    #\"https://drive.google.com/file/d/10AFS51WboAVQwdUn56dX27aqQde516o0/\"\n",
        ")\n",
        "arxiv_data.drop(labels=['Unnamed: 0', '발명의 명칭', '요약', '대표청구항'], axis=1, inplace=True)\n",
        "arxiv_data.rename(columns={'Current IPC All':'IPC'}, inplace=True)\n",
        "\n",
        "arxiv_data['IPC'][0]"
      ],
      "metadata": {
        "id": "YCAhHYYnpOq7",
        "colab": {
          "base_uri": "https://localhost:8080/",
          "height": 35
        },
        "outputId": "085785f9-ec00-428f-b6e8-7827b7dae59b"
      },
      "execution_count": 26,
      "outputs": [
        {
          "output_type": "execute_result",
          "data": {
            "text/plain": [
              "\"['G01V-003/28 ', ' G01V-003/38 ', ' G06F-030/20 ', ' E21B-049/00']\""
            ],
            "application/vnd.google.colaboratory.intrinsic+json": {
              "type": "string"
            }
          },
          "metadata": {},
          "execution_count": 26
        }
      ]
    },
    {
      "cell_type": "code",
      "source": [
        "\"\"\"\n",
        "Our text features are present in the `summaries` column and their corresponding labels\n",
        "are in `terms`. As you can notice, there are multiple categories associated with a\n",
        "particular entry.\n",
        "\"\"\"\n",
        "\n",
        "print(f\"There are {len(arxiv_data)} rows in the dataset.\")\n"
      ],
      "metadata": {
        "id": "tJtqqrEWpGWm",
        "colab": {
          "base_uri": "https://localhost:8080/"
        },
        "outputId": "0fe5faa0-f7e2-459b-e5d6-624c2c249089"
      },
      "execution_count": 27,
      "outputs": [
        {
          "output_type": "stream",
          "name": "stdout",
          "text": [
            "There are 50000 rows in the dataset.\n"
          ]
        }
      ]
    },
    {
      "cell_type": "code",
      "source": [
        "\"\"\"\n",
        "Real-world data is noisy. One of the most commonly observed source of noise is data\n",
        "duplication. Here we notice that our initial dataset has got about 13k duplicate entries.\n",
        "\"\"\"\n",
        "\n",
        "total_duplicate_titles = sum(arxiv_data[\"CONTEXT\"].duplicated())\n",
        "print(f\"There are {total_duplicate_titles} duplicate items.\")\n"
      ],
      "metadata": {
        "id": "lmUBP215p2vM",
        "colab": {
          "base_uri": "https://localhost:8080/"
        },
        "outputId": "962771bd-dafd-4dfe-ee71-a823fcdf4d91"
      },
      "execution_count": 5,
      "outputs": [
        {
          "output_type": "stream",
          "name": "stdout",
          "text": [
            "There are 2 duplicate items.\n"
          ]
        }
      ]
    },
    {
      "cell_type": "code",
      "source": [
        "\"\"\"\n",
        "Before proceeding further, we drop these entries.\n",
        "\"\"\"\n",
        "\n",
        "arxiv_data = arxiv_data[~arxiv_data[\"CONTEXT\"].duplicated()]\n",
        "print(f\"There are {len(arxiv_data)} rows in the deduplicated dataset.\")\n",
        "\n",
        "# There are some terms with occurrence as low as 1.\n",
        "#print(\"# There are some terms with occurrence as low as 1.\", sum(arxiv_data[\"terms\"].value_counts() == 1))\n",
        "\n",
        "# How many unique terms?\n",
        "#print(\"# How many unique terms?\", arxiv_data[\"terms\"].nunique())\n"
      ],
      "metadata": {
        "id": "NyoGKLs-p5JD",
        "colab": {
          "base_uri": "https://localhost:8080/"
        },
        "outputId": "a25859e8-168e-4f9d-e927-be930b1ea66c"
      },
      "execution_count": 6,
      "outputs": [
        {
          "output_type": "stream",
          "name": "stdout",
          "text": [
            "There are 49998 rows in the deduplicated dataset.\n"
          ]
        }
      ]
    },
    {
      "cell_type": "code",
      "source": [
        "\"\"\"\n",
        "As observed above, out of 3,157 unique combinations of `terms`, 2,321 entries have the\n",
        "lowest occurrence. To prepare our train, validation, and test sets with\n",
        "[stratification](https://en.wikipedia.org/wiki/Stratified_sampling), we need to drop\n",
        "these terms.\n",
        "\"\"\"\n",
        "\n",
        "# Filtering the rare terms.\n",
        "arxiv_data_filtered = arxiv_data.groupby(\"IPC\").filter(lambda x: len(x) > 1)\n",
        "print(arxiv_data_filtered.shape)"
      ],
      "metadata": {
        "id": "NJOc-Mh6p8fy",
        "colab": {
          "base_uri": "https://localhost:8080/"
        },
        "outputId": "8ae617b8-5344-465b-d12f-cb43b084d1f2"
      },
      "execution_count": 7,
      "outputs": [
        {
          "output_type": "stream",
          "name": "stdout",
          "text": [
            "(8884, 52)\n"
          ]
        }
      ]
    },
    {
      "cell_type": "code",
      "source": [
        "\"\"\"\n",
        "## Convert the string labels to lists of strings\n",
        "The initial labels are represented as raw strings. Here we make them `List[str]` for a\n",
        "more compact representation.\n",
        "\"\"\"\n",
        "\n",
        "#arxiv_data_filtered[\"IPC\"] = arxiv_data_filtered[\"IPC\"].apply(\n",
        "#    lambda x: literal_eval(x)\n",
        "#)\n",
        "arxiv_data_filtered[\"IPC\"].values[:5]\n"
      ],
      "metadata": {
        "id": "ICwfZkTwqLOS",
        "colab": {
          "base_uri": "https://localhost:8080/"
        },
        "outputId": "4b385fae-fb17-4c9e-e2c4-0c46cabc35ae"
      },
      "execution_count": 8,
      "outputs": [
        {
          "output_type": "execute_result",
          "data": {
            "text/plain": [
              "array([\"['C12N-005/071']\",\n",
              "       \"['G02F-001/1337 ', ' G02F-001/1343 ', ' G02F-001/137']\",\n",
              "       \"['G06F-003/01 ', ' G02B-027/00 ', ' G02B-027/01']\",\n",
              "       \"['G06F-003/0354 ', ' G06F-003/041 ', ' G06F-003/046']\",\n",
              "       \"['G06F-003/041 ', ' G06F-003/044 ', ' G09G-003/36']\"],\n",
              "      dtype=object)"
            ]
          },
          "metadata": {},
          "execution_count": 8
        }
      ]
    },
    {
      "cell_type": "code",
      "source": [
        "\"\"\"\n",
        "IPC code가 원문으로 들어가 있는 것을 세부번호를 제외한 G02F 등의 형식으로 표현하는 셀\n",
        "\"\"\"\n",
        "for i in range(8884) : #len(arxiv_data)) :\n",
        "    pre_ipc_words = \"\".join(arxiv_data_filtered['IPC'].values[i][2:-2]).replace(\",\",\"\").replace(\"]\",\"\").replace(\" \",\"\").replace(\"''\",\"|\")\n",
        "    pre_ipc_words = pre_ipc_words.split(\"|\")\n",
        "    ipc_words = [ ipc[:4] for ipc in pre_ipc_words ]\n",
        "    arxiv_data_filtered['IPC'].values[i] = ipc_words"
      ],
      "metadata": {
        "id": "E8L7tzPbKfeV"
      },
      "execution_count": 9,
      "outputs": []
    },
    {
      "cell_type": "code",
      "source": [
        "\"\"\"\n",
        "## Use stratified splits because of class imbalance\n",
        "The dataset has a\n",
        "[class imbalance problem](https://developers.google.com/machine-learning/glossary/#class-imbalanced-dataset).\n",
        "So, to have a fair evaluation result, we need to ensure the datasets are sampled with\n",
        "stratification. To know more about different strategies to deal with the class imbalance\n",
        "problem, you can follow\n",
        "[this tutorial](https://www.tensorflow.org/tutorials/structured_data/imbalanced_data).\n",
        "For an end-to-end demonstration of classification with imbablanced data, refer to\n",
        "[Imbalanced classification: credit card fraud detection](https://keras.io/examples/structured_data/imbalanced_classification/).\n",
        "\"\"\"\n",
        "\n",
        "test_split = 0.1\n",
        "\n",
        "# Initial train and test split.\n",
        "train_df, test_df = train_test_split(\n",
        "    arxiv_data_filtered,\n",
        "    test_size=test_split,\n",
        "    stratify=arxiv_data_filtered[\"IPC\"].values,\n",
        ")\n",
        "\n",
        "# Splitting the test set further into validation\n",
        "# and new test sets.\n",
        "val_df = test_df.sample(frac=0.5)\n",
        "test_df.drop(val_df.index, inplace=True)\n",
        "\n",
        "print(f\"Number of rows in training set: {len(train_df)}\")\n",
        "print(f\"Number of rows in validation set: {len(val_df)}\")\n",
        "print(f\"Number of rows in test set: {len(test_df)}\")\n",
        "\n"
      ],
      "metadata": {
        "id": "yRME2b7sqOo6",
        "colab": {
          "base_uri": "https://localhost:8080/"
        },
        "outputId": "b34cf23d-cfe7-404d-8abf-f02fbe9c6112"
      },
      "execution_count": 10,
      "outputs": [
        {
          "output_type": "stream",
          "name": "stdout",
          "text": [
            "Number of rows in training set: 7995\n",
            "Number of rows in validation set: 444\n",
            "Number of rows in test set: 445\n"
          ]
        }
      ]
    },
    {
      "cell_type": "code",
      "source": [
        "\"\"\"\n",
        "## Multi-label binarization\n",
        "Now we preprocess our labels using the\n",
        "[`StringLookup`](https://keras.io/api/layers/preprocessing_layers/categorical/string_lookup)\n",
        "layer.\n",
        "\"\"\"\n",
        "\n",
        "terms = tf.ragged.constant(train_df[\"IPC\"].values)\n",
        "lookup = tf.keras.layers.StringLookup(output_mode=\"multi_hot\")\n",
        "lookup.adapt(terms)\n",
        "vocab = lookup.get_vocabulary()\n",
        "\n",
        "\n",
        "def invert_multi_hot(encoded_labels):\n",
        "    \"\"\"Reverse a single multi-hot encoded label to a tuple of vocab terms.\"\"\"\n",
        "    hot_indices = np.argwhere(encoded_labels == 1.0)[..., 0]\n",
        "    return np.take(vocab, hot_indices)\n",
        "\n",
        "\n",
        "print(\"Vocabulary:\\n\")\n",
        "print(vocab)\n"
      ],
      "metadata": {
        "id": "iwrHxHAYqRsS",
        "colab": {
          "base_uri": "https://localhost:8080/"
        },
        "outputId": "e6bd0d23-9947-4d88-e3c4-aee7da286c96"
      },
      "execution_count": 11,
      "outputs": [
        {
          "output_type": "stream",
          "name": "stdout",
          "text": [
            "Vocabulary:\n",
            "\n",
            "['[UNK]', 'G06F', 'H01L', 'G09G', 'G02F', 'H04L', 'H04N', 'G06Q', 'A61B', 'G06T', 'G02B', 'G07F', 'G06K', 'F21V', 'A63F', 'H04W', 'G11C', 'C07K', 'C09K', 'C07D', 'G01C', 'G16H', 'H04M', 'G01N', 'G05B', 'A61M', 'A61K', 'G06N', 'C12N', 'H05K', 'A61N', 'G01S', 'H05B', 'A61F', 'H02J', 'G09B', 'G10L', 'C09D', 'C08G', 'C23C', 'C07F', 'B32B', 'B25J', 'A63B', 'B60K', 'G09F', 'G03F', 'G05D', 'C07C', 'G03B', 'C03B', 'G11B', 'G08B', 'F21S', 'A47F', 'G08G', 'G01R', 'B41J', 'B60L', 'A01H', 'H04R', 'H04B', 'F24F', 'B60R', 'A01K', 'H01J', 'G01L', 'C03C', 'G07C', 'G01B', 'G03H', 'B65D', 'C12Q', 'H01S', 'G08C', 'G02C', 'C40B', 'B05D', 'A47J', 'G03G', 'H04S', 'H04H', 'H01H', 'H01B', 'G01M', 'G01F', 'D06F', 'C08F', 'B67D', 'B60Q', 'A45C', 'G04G', 'G04B', 'G01V', 'F21W', 'C09J', 'B82Y', 'B66B', 'B60W', 'B29C', 'A61H', 'A01N', 'G05F', 'G01T', 'B64D', 'H01M', 'H01F', 'G01K', 'F21Y', 'F21K', 'C10G', 'C08J', 'B01F', 'B01D', 'A61P', 'A61L', 'A61J', 'A61C', 'A45D', 'H03K', 'B60C', 'A45F', 'H05H', 'H03F', 'G21K', 'G01J', 'G01D', 'F41J', 'F16L', 'F16H', 'F01N', 'E21B', 'E06B', 'E02F', 'E01H', 'C25D', 'C08K', 'B65H', 'B60S', 'B25G', 'B23P', 'B21D', 'B08B', 'B07C', 'B01L', 'A44C', 'A01F', 'F25B', 'C12P', 'C07H', 'A01P', 'H04Q', 'H02S', 'H02P', 'H02N', 'H02M', 'H02H', 'H01Q', 'G21B', 'G07D', 'G07B', 'G04F', 'G01H', 'F25D', 'D03D', 'C08L', 'C04B', 'B66F', 'B65F', 'B62D', 'B62B', 'B60P', 'B60H', 'B33Y', 'B27B', 'B23Q', 'B23D', 'B22F', 'B21C', 'B06B', 'B05C', 'A63H', 'A63C', 'A62B', 'A47L', 'A47H', 'A47G', 'A46B', 'A24F', 'A01G']\n"
          ]
        }
      ]
    },
    {
      "cell_type": "code",
      "source": [
        "\"\"\"\n",
        "Here we are separating the individual unique classes available from the label\n",
        "pool and then using this information to represent a given label set with 0's and 1's.\n",
        "Below is an example.\n",
        "\"\"\"\n",
        "\n",
        "sample_label = train_df[\"IPC\"].iloc[0]\n",
        "print(f\"Sample[0] / Original IPC label: {sample_label}\")\n",
        "\n",
        "label_binarized = lookup([sample_label])\n",
        "print(f\"Sample[0] / Label-binarized representation: {label_binarized}\")\n"
      ],
      "metadata": {
        "id": "iMAAEQckqU0L",
        "colab": {
          "base_uri": "https://localhost:8080/"
        },
        "outputId": "6862a2ca-2ce8-4593-9ebd-09904759b41d"
      },
      "execution_count": 12,
      "outputs": [
        {
          "output_type": "stream",
          "name": "stdout",
          "text": [
            "Sample[0] / Original IPC label: ['G09G', 'H01L']\n",
            "Sample[0] / Label-binarized representation: [[0. 0. 1. 1. 0. 0. 0. 0. 0. 0. 0. 0. 0. 0. 0. 0. 0. 0. 0. 0. 0. 0. 0. 0.\n",
            "  0. 0. 0. 0. 0. 0. 0. 0. 0. 0. 0. 0. 0. 0. 0. 0. 0. 0. 0. 0. 0. 0. 0. 0.\n",
            "  0. 0. 0. 0. 0. 0. 0. 0. 0. 0. 0. 0. 0. 0. 0. 0. 0. 0. 0. 0. 0. 0. 0. 0.\n",
            "  0. 0. 0. 0. 0. 0. 0. 0. 0. 0. 0. 0. 0. 0. 0. 0. 0. 0. 0. 0. 0. 0. 0. 0.\n",
            "  0. 0. 0. 0. 0. 0. 0. 0. 0. 0. 0. 0. 0. 0. 0. 0. 0. 0. 0. 0. 0. 0. 0. 0.\n",
            "  0. 0. 0. 0. 0. 0. 0. 0. 0. 0. 0. 0. 0. 0. 0. 0. 0. 0. 0. 0. 0. 0. 0. 0.\n",
            "  0. 0. 0. 0. 0. 0. 0. 0. 0. 0. 0. 0. 0. 0. 0. 0. 0. 0. 0. 0. 0. 0. 0. 0.\n",
            "  0. 0. 0. 0. 0. 0. 0. 0. 0. 0. 0. 0. 0. 0. 0. 0. 0. 0. 0. 0. 0. 0.]]\n"
          ]
        }
      ]
    },
    {
      "cell_type": "code",
      "source": [
        "\"\"\"\n",
        "## Data preprocessing and `tf.data.Dataset` objects\n",
        "We first get percentile estimates of the sequence lengths. The purpose will be clear in a\n",
        "moment.\n",
        "\"\"\"\n",
        "\n",
        "train_df[\"CONTEXT\"].apply(lambda x: len(x.split(\" \"))).describe()\n"
      ],
      "metadata": {
        "id": "nTQPs1NIqeH7",
        "colab": {
          "base_uri": "https://localhost:8080/"
        },
        "outputId": "8b578eb8-f66d-43d8-8fd2-a36d4b247bf3"
      },
      "execution_count": 13,
      "outputs": [
        {
          "output_type": "execute_result",
          "data": {
            "text/plain": [
              "count    7995.000000\n",
              "mean      346.760225\n",
              "std       131.821707\n",
              "min        41.000000\n",
              "25%       258.000000\n",
              "50%       327.000000\n",
              "75%       412.000000\n",
              "max      1064.000000\n",
              "Name: CONTEXT, dtype: float64"
            ]
          },
          "metadata": {},
          "execution_count": 13
        }
      ]
    },
    {
      "cell_type": "code",
      "source": [
        "\"\"\"\n",
        "Notice that 50% of the abstracts have a length of 154 (you may get a different number\n",
        "based on the split). So, any number close to that value is a good enough approximate for the\n",
        "maximum sequence length.\n",
        "Now, we implement utilities to prepare our datasets.\n",
        "\"\"\"\n",
        "\n",
        "max_seqlen = 150\n",
        "batch_size = 128\n",
        "padding_token = \"<pad>\"\n",
        "auto = tf.data.AUTOTUNE\n",
        "\n",
        "\n",
        "def make_dataset(dataframe, is_train=True):\n",
        "    labels = tf.ragged.constant(dataframe[\"IPC\"].values)\n",
        "    label_binarized = lookup(labels).numpy()\n",
        "    dataset = tf.data.Dataset.from_tensor_slices(\n",
        "        (dataframe[\"CONTEXT\"].values, label_binarized)\n",
        "    )\n",
        "    dataset = dataset.shuffle(batch_size * 10) if is_train else dataset\n",
        "    return dataset.batch(batch_size)\n"
      ],
      "metadata": {
        "id": "GdUeWCyoqiH7"
      },
      "execution_count": 14,
      "outputs": []
    },
    {
      "cell_type": "code",
      "source": [
        "\"\"\"\n",
        "Now we can prepare the `tf.data.Dataset` objects.\n",
        "\"\"\"\n",
        "\n",
        "train_dataset = make_dataset(train_df, is_train=True)\n",
        "validation_dataset = make_dataset(val_df, is_train=False)\n",
        "test_dataset = make_dataset(test_df, is_train=False)\n"
      ],
      "metadata": {
        "id": "NQej4ucEqkkK"
      },
      "execution_count": 15,
      "outputs": []
    },
    {
      "cell_type": "code",
      "source": [
        "\"\"\"\n",
        "## Dataset preview\n",
        "\"\"\"\n",
        "\n",
        "text_batch, label_batch = next(iter(train_dataset))\n",
        "\n",
        "for i, text in enumerate(text_batch[:5]):\n",
        "    label = label_batch[i].numpy()[None, ...]\n",
        "    print(f\"Abstract: {text}\")\n",
        "    print(f\"Label(s): {invert_multi_hot(label[0])}\")\n",
        "    print(\" \")\n"
      ],
      "metadata": {
        "id": "wE59HyW6qnFi",
        "colab": {
          "base_uri": "https://localhost:8080/"
        },
        "outputId": "0c24ebbb-e5e2-4f3a-cf77-24c128f94d68"
      },
      "execution_count": 16,
      "outputs": [
        {
          "output_type": "stream",
          "name": "stdout",
          "text": [
            "Abstract: b'Method of gaming, a gaming system and a game controller. Method and systems of gaming are provided herein. One method includes receiving a credit wager to initiate play of a base game. The method also includes awarding, in a feature game, at least two game rounds including at least an initial game round and a subsequent game round. The method also includes generating a plurality of candidate game outcomes for a plurality of game rounds, and determining, for each of the plurality of candidate game outcomes, an expected benefit to be gained from the respective candidate game outcome when generating a subsequent game outcome in the subsequent game round. The method still further includes selecting a candidate game round of the plurality of candidate game rounds having a candidate game outcome of the plurality of candidate game outcomes associated with a greatest expected benefit, and displaying the selected candidate game round on a display as the initial game round.. 1. An electronic method of gaming implemented using a gaming system, the gaming system including a display configured to display a wagering game, a player input interface, a credit input mechanism including at least one of a card reader, a ticket reader, a bill acceptor, and a coin input mechanism, the credit input mechanism configured to establish a credit balance that is increasable and decreasable based on wagering activity, and a game controller, said method comprising: receiving, via the credit input mechanism, a credit wager to initiate play of a base game;awarding, by the game controller, in a feature game conducted on a plurality of reels, at least two game rounds, the at least two game rounds including at least an initial game round and a subsequent game round, wherein the feature game is triggered by the base game;generating, by the game controller, a plurality of candidate game outcomes for a plurality of initial game rounds;determining, by the game controller, for each of the plurality of candidate game outcomes, an expected player benefit to be gained from each of a respective candidate game outcome in the initial game round in combination with a subsequent game outcome in the subsequent game round;selecting, by the game controller, a candidate initial game round from the plurality of initial game rounds having a candidate game outcome of the plurality of candidate game outcomes associated with a greatest expected benefit;displaying the candidate game outcome of the selected candidate initial game round on the display of the gaming system as the initial game round;receiving, via the player input interface, a player selection associated with the displayed candidate game outcome, wherein the player selection includes a selection of at least one reel to hold from the initial game round;determining whether the player selection is an optimal selection or a sub-optimal selection; andincreasing a chance of one or more additional game rounds being awarded when the player selection is a sub-optimal selection.'\n",
            "Label(s): ['G07F' 'A63F']\n",
            " \n",
            "Abstract: b'Mobile terminal. A mobile terminal includes: a terminal body having a case formed of a metallic material at least partially; a metal key unit formed on one region of the case, and configured to sense a pressure of a touch input; and a controller configured to execute a specific function based on a pressure applied to the metal key unit, wherein the metal key unit includes: a flexible printed circuit board attached to a lower part of the case; and a pressure sensor configured to sense a pressure applied to the case.. 1. A mobile terminal, comprising: a case, wherein a portion of the case is formed of a metallic material;a metal key unit coupled to the case, wherein the metal key unit includes a flexible printed circuit board coupled to a lower part of the case and a pressure sensor formed at the flexible printed circuit board, wherein the pressure sensor is configured to sense pressure of a first touch input applied to the metal key unit by sensing a changed resistance value;a touch screen; anda controller operably coupled with the metal key unit and the touch screen and configured to: recognize the sensed pressure of the first touch input received at the metal key unit, wherein the first touch input is a single touch input;recognize a position of the recognized pressure of the first touch input;execute a specific function based on the recognized pressure; andcause the touch screen to display information corresponding to the executed specific function on a region of the touch screen such that:the information is displayed on a first region of the touch screen adjacent to a first position of the metal key unit when the recognized pressure of the touch input is recognized at the first position; andthe information is displayed on a second region of the touch screen adjacent to a second position of the metal key unit when the recognized pressure of the touch input is recognized at the second position.'\n",
            "Label(s): ['G06F']\n",
            " \n",
            "Abstract: b'Oscilloscope with digital search triggering. An oscilloscope includes a probe and an analog to digital converter. The probe detects a varying electronic signal and produces an analog signal. The analog to digital converter converts the analog signal to a digital signal. The oscilloscope detects vertical movement of the digital signal as a first digital trigger triggered at a trigger time. A segment of the digital signal is compared with predetermined parameters for the varying electronic signal received from a user to confirm whether a pattern of the varying electronic signal in the segment matches the predetermined parameters. When the pattern of the varying electronic signal in the segment matches the predetermined parameters, the process includes generating a display showing the varying electronic signal in the segment based on the trigger time.. 1. An oscilloscope, comprising: a probe that detects a varying electronic signal and produces an analog signal set based on the varying electronic signal detected;an analog to digital converter that converts the analog signal to a digital signal; andcircuitry adapted to detect vertical movement of the digital signal as a first digital trigger triggered at a trigger time, compare a segment of the digital signal set based on the trigger time with predetermined parameters for the varying electronic signal received from a user to confirm whether a pattern of the varying electronic signal in the segment matches the predetermined parameters, and when the pattern of the varying electronic signal in the segment matches the predetermined parameters, generate a display showing the varying electronic signal in the segment based on the trigger time.'\n",
            "Label(s): ['G01R']\n",
            " \n",
            "Abstract: b'Package for device to be packaged, manufacturing method thereof, and OLED apparatus comprising the package. A package is provided. The package includes a base substrate includes a first surface, a second surface opposite the first surface, and a side face, wherein a device to be packaged is formed on the first surface, and a packaging cover-plate surrounding the first surface of the base substrate and directly coupled to at least one of the side face and the second surface of the base substrate, wherein the device to be packaged is formed in an enclosure space defined by the packaging cover-plate and the base substrate.,. 1. A package, comprising: a base substrate comprising a first surface, a second surface opposite the first surface, and a side face, wherein a device to be packaged is formed on the first surface; anda packaging cover-plate surrounding the first surface of the base substrate wherein the device to be packaged is formed in a first enclosure space defined by the packaging cover-plate and the base substrate, wherein the packaging cover-plate is directly coupled to the second surface of the base substrate, and wherein a second enclosure space, which is defined by the base substrate, the packaging cover-plate and the device to be packaged, is filled with at least one of a water-absorbing material and an oxygen-absorbing material wherein the package further comprises a packaging film in the first enclosure space, wherein the packaging film is directly coupled to the first surface of the base substrate, and wherein the device to be packaged is encapsulated by the packaging film and the base substrate.'\n",
            "Label(s): ['H01L']\n",
            " \n",
            "Abstract: b'System and method for physiological health simulation. Systems and methods for health and body simulations in order to predict numerous physiological parameters in a subject or a population of subjects based on the input of limited physiological data.. 1. A method for predicting a time to diabetes onset in a subject, the method comprising: (a) receiving, for the subject, subject parameter values comprising height, weight, age, gender, and serum HbA1c concentration at a first time;(b) calculating initial parameter set values, comprising basal metabolic rate, excess caloric intake, EC50(FFA), and beta cell apoptosis rate, based on the subject parameter values by (i) setting an age estimate to an age younger than the age determined in step (a), setting a weight estimate to a weight that is different from the weight determined in step (a), and setting a serum HbA1c estimate to a value different from the serum HbA1c concentration determined in step (a)(ii) providing an initial estimate for each value in the initial parameter set values at the age estimate,(iii) iteratively calculating the initial parameter set values, the weight estimate, and the serum HbA1c estimate, in a time-dependent manner in which the age estimate is increased by a first time step in each iteration from the age estimate set in step (b)(i) until the age estimate is substantially equal to the age, and(iv) iteratively performing steps (i)-(iii) until the weight estimate is substantially equal to the weight and the serum HbA1c estimate is substantially equal to the serum HbA1c concentration when the age estimate is substantially equal to the age;(c) iteratively calculating a future time and a projected serum HbA1c concentration using the initial parameter set calculated in step(b)(iii) and the subject parameter values, in a time-dependent manner in which the first time is increased by a second time step in each iteration until the projected serum HbA1c concentration at the future time is calculated to be greater than or equal to 6.5%,(d) identifying the future time iteratively calculated in step (c) as the time to diabetes onset, and(e) displaying the future time identified in step (d) as the predicted time for diabetes onset.'\n",
            "Label(s): ['A61B']\n",
            " \n"
          ]
        }
      ]
    },
    {
      "cell_type": "code",
      "source": [
        "\"\"\"\n",
        "## Vectorization\n",
        "Before we feed the data to our model, we need to vectorize it (represent it in a numerical form).\n",
        "For that purpose, we will use the\n",
        "[`TextVectorization` layer](https://keras.io/api/layers/preprocessing_layers/text/text_vectorization).\n",
        "It can operate as a part of your main model so that the model is excluded from the core\n",
        "preprocessing logic. This greatly reduces the chances of training / serving skew during inference.\n",
        "We first calculate the number of unique words present in the abstracts.\n",
        "\"\"\"\n",
        "\n",
        "# Source: https://stackoverflow.com/a/18937309/7636462\n",
        "vocabulary = set()\n",
        "train_df[\"CONTEXT\"].str.lower().str.split().apply(vocabulary.update)\n",
        "vocabulary_size = len(vocabulary)\n",
        "print(vocabulary_size)\n"
      ],
      "metadata": {
        "id": "No6b8Ap8qpZb",
        "colab": {
          "base_uri": "https://localhost:8080/"
        },
        "outputId": "eb59a9ae-421b-4512-c293-8482b9e529e1"
      },
      "execution_count": 17,
      "outputs": [
        {
          "output_type": "stream",
          "name": "stdout",
          "text": [
            "56392\n"
          ]
        }
      ]
    },
    {
      "cell_type": "code",
      "source": [
        "\"\"\"\n",
        "We now create our vectorization layer and `map()` to the `tf.data.Dataset`s created\n",
        "earlier.\n",
        "\"\"\"\n",
        "\n",
        "text_vectorizer = layers.TextVectorization(\n",
        "    max_tokens=vocabulary_size, ngrams=2, output_mode=\"tf_idf\"\n",
        ")\n",
        "\n",
        "# `TextVectorization` layer needs to be adapted as per the vocabulary from our\n",
        "# training set.\n",
        "with tf.device(\"/CPU:0\"):\n",
        "    text_vectorizer.adapt(train_dataset.map(lambda text, label: text))\n",
        "\n",
        "train_dataset = train_dataset.map(\n",
        "    lambda text, label: (text_vectorizer(text), label), num_parallel_calls=auto\n",
        ").prefetch(auto)\n",
        "validation_dataset = validation_dataset.map(\n",
        "    lambda text, label: (text_vectorizer(text), label), num_parallel_calls=auto\n",
        ").prefetch(auto)\n",
        "test_dataset = test_dataset.map(\n",
        "    lambda text, label: (text_vectorizer(text), label), num_parallel_calls=auto\n",
        ").prefetch(auto)\n"
      ],
      "metadata": {
        "id": "HMhI4qAUqrl7"
      },
      "execution_count": 18,
      "outputs": []
    },
    {
      "cell_type": "code",
      "source": [
        "\"\"\"\n",
        "A batch of raw text will first go through the `TextVectorization` layer and it will\n",
        "generate their integer representations. Internally, the `TextVectorization` layer will\n",
        "first create bi-grams out of the sequences and then represent them using\n",
        "[TF-IDF](https://wikipedia.org/wiki/Tf%E2%80%93idf). The output representations will then\n",
        "be passed to the shallow model responsible for text classification.\n",
        "To learn more about other possible configurations with `TextVectorizer`, please consult\n",
        "the\n",
        "[official documentation](https://keras.io/api/layers/preprocessing_layers/text/text_vectorization).\n",
        "**Note**: Setting the `max_tokens` argument to a pre-calculated vocabulary size is\n",
        "not a requirement.\n",
        "\"\"\"\n",
        "\n",
        "\"\"\"\n",
        "## Create a text classification model\n",
        "We will keep our model simple -- it will be a small stack of fully-connected layers with\n",
        "ReLU as the non-linearity.\n",
        "\"\"\"\n",
        "\n",
        "\n",
        "def make_model():\n",
        "    shallow_mlp_model = keras.Sequential(\n",
        "        [\n",
        "            layers.Dense(512, activation=\"relu\"),\n",
        "            layers.Dense(256, activation=\"relu\"),\n",
        "            layers.Dense(lookup.vocabulary_size(), activation=\"sigmoid\"),\n",
        "        ]  # More on why \"sigmoid\" has been used here in a moment.\n",
        "    )\n",
        "    return shallow_mlp_model\n"
      ],
      "metadata": {
        "id": "du-H6kI-qu-T"
      },
      "execution_count": 19,
      "outputs": []
    },
    {
      "cell_type": "code",
      "source": [
        "\"\"\"\n",
        "## Train the model\n",
        "We will train our model using the binary crossentropy loss. This is because the labels\n",
        "are not disjoint. For a given abstract, we may have multiple categories. So, we will\n",
        "divide the prediction task into a series of multiple binary classification problems. This\n",
        "is also why we kept the activation function of the classification layer in our model to\n",
        "sigmoid. Researchers have used other combinations of loss function and activation\n",
        "function as well. For example, in\n",
        "[Exploring the Limits of Weakly Supervised Pretraining](https://arxiv.org/abs/1805.00932),\n",
        "Mahajan et al. used the softmax activation function and cross-entropy loss to train\n",
        "their models.\n",
        "\"\"\"\n",
        "epochs = 3\n",
        "\n",
        "shallow_mlp_model = make_model()\n",
        "shallow_mlp_model.compile(\n",
        "    loss=\"binary_crossentropy\", optimizer=\"adam\", metrics=[\"categorical_accuracy\"]\n",
        ")\n",
        "\n",
        "history = shallow_mlp_model.fit(\n",
        "    train_dataset, validation_data=validation_dataset, epochs=epochs\n",
        ")\n",
        "\n",
        "\n",
        "def plot_result(item):\n",
        "    plt.plot(history.history[item], label=item)\n",
        "    plt.plot(history.history[\"val_\" + item], label=\"val_\" + item)\n",
        "    plt.xlabel(\"Epochs\")\n",
        "    plt.ylabel(item)\n",
        "    plt.title(\"Train and Validation {} Over Epochs\".format(item), fontsize=14)\n",
        "    plt.legend()\n",
        "    plt.grid()\n",
        "    plt.show()\n",
        "\n",
        "\n",
        "plot_result(\"loss\")\n",
        "plot_result(\"categorical_accuracy\")\n"
      ],
      "metadata": {
        "id": "qlwwSqFDq4ZD",
        "colab": {
          "base_uri": "https://localhost:8080/",
          "height": 685
        },
        "outputId": "6d114b5a-def5-4def-8d2f-f17eda48ddf8"
      },
      "execution_count": 20,
      "outputs": [
        {
          "output_type": "stream",
          "name": "stdout",
          "text": [
            "Epoch 1/3\n",
            "63/63 [==============================] - 8s 41ms/step - loss: 0.0698 - categorical_accuracy: 0.5466 - val_loss: 0.0133 - val_categorical_accuracy: 0.7252\n",
            "Epoch 2/3\n",
            "63/63 [==============================] - 2s 32ms/step - loss: 0.0043 - categorical_accuracy: 0.8389 - val_loss: 0.0133 - val_categorical_accuracy: 0.7545\n",
            "Epoch 3/3\n",
            "63/63 [==============================] - 2s 31ms/step - loss: 9.6894e-04 - categorical_accuracy: 0.8538 - val_loss: 0.0149 - val_categorical_accuracy: 0.7432\n"
          ]
        },
        {
          "output_type": "display_data",
          "data": {
            "text/plain": [
              "<Figure size 432x288 with 1 Axes>"
            ],
            "image/png": "[encoded data removed]"
          },
          "metadata": {
            "needs_background": "light"
          }
        },
        {
          "output_type": "display_data",
          "data": {
            "text/plain": [
              "<Figure size 432x288 with 1 Axes>"
            ],
            "image/png": "[encoded data removed]"
          },
          "metadata": {
            "needs_background": "light"
          }
        }
      ]
    },
    {
      "cell_type": "code",
      "source": [
        "\"\"\"\n",
        "While training, we notice an initial sharp fall in the loss followed by a gradual decay.\n",
        "\"\"\"\n",
        "\n",
        "\"\"\"\n",
        "### Evaluate the model\n",
        "\"\"\"\n",
        "\n",
        "_, categorical_acc = shallow_mlp_model.evaluate(test_dataset)\n",
        "print(f\"Categorical accuracy on the test set: {round(categorical_acc * 100, 2)}%.\")\n",
        "\n"
      ],
      "metadata": {
        "id": "wsM4Xwl1q7Ob",
        "colab": {
          "base_uri": "https://localhost:8080/"
        },
        "outputId": "1ec31a62-17b4-4e0f-d0f5-c74556b0ebb5"
      },
      "execution_count": 21,
      "outputs": [
        {
          "output_type": "stream",
          "name": "stdout",
          "text": [
            "4/4 [==============================] - 0s 16ms/step - loss: 0.0165 - categorical_accuracy: 0.6876\n",
            "Categorical accuracy on the test set: 68.76%.\n"
          ]
        }
      ]
    },
    {
      "cell_type": "code",
      "source": [
        "from re import X\n",
        "\"\"\"\n",
        "The trained model gives us an evaluation accuracy of ~87%.\n",
        "\"\"\"\n",
        "\n",
        "\"\"\"\n",
        "## Inference\n",
        "An important feature of the\n",
        "[preprocessing layers provided by Keras](https://keras.io/guides/preprocessing_layers/)\n",
        "is that they can be included inside a `tf.keras.Model`. We will export an inference model\n",
        "by including the `text_vectorization` layer on top of `shallow_mlp_model`. This will\n",
        "allow our inference model to directly operate on raw strings.\n",
        "**Note** that during training it is always preferable to use these preprocessing\n",
        "layers as a part of the data input pipeline rather than the model to avoid\n",
        "surfacing bottlenecks for the hardware accelerators. This also allows for\n",
        "asynchronous data processing.\n",
        "\"\"\"\n",
        "\n",
        "# Create a model for inference.\n",
        "model_for_inference = keras.Sequential([text_vectorizer, shallow_mlp_model])\n",
        "\n",
        "# Create a small dataset just for demoing inference.\n",
        "inference_dataset = make_dataset(test_df.sample(100), is_train=False)\n",
        "text_batch, label_batch = next(iter(inference_dataset))\n",
        "predicted_probabilities = model_for_inference.predict(text_batch)\n",
        "\n",
        "# Perform inference.\n",
        "for i, text in enumerate(text_batch[:3]):\n",
        "    label = label_batch[i].numpy()[None, ...]\n",
        "    print(f\"Abstract: {text}\")\n",
        "    print(f\"Label(s): {invert_multi_hot(label[0])}\")\n",
        "    predicted_proba = [proba for proba in predicted_probabilities[i]]\n",
        "\n",
        "    #print(predicted_proba)\n",
        "    #print(lookup.get_vocabulary())\n",
        "    # top_3_labels = [\n",
        "    #     x\n",
        "    #     for _, x in sorted(\n",
        "    #         zip(predicted_probabilities[i], lookup.get_vocabulary()),\n",
        "    #         key=lambda pair: pair[0],\n",
        "    #         reverse=True,\n",
        "    #     )\n",
        "    # ][:3]\n",
        "    \n",
        "    label_table = sorted(\n",
        "            zip(predicted_probabilities[i], lookup.get_vocabulary()),\n",
        "            key=lambda pair: pair[0],\n",
        "            reverse=True,\n",
        "        )\n",
        "    predicted_label = [ x[1] for x in label_table if x[0] > 0.2 ]\n",
        "    \n",
        "    if len(predicted_label) == 0 :\n",
        "        predicted_label = label_table[0][0]\n",
        "    \n",
        "    print(f\"Predicted Label(s): ( {', '.join([label for label in predicted_label])} )\")\n",
        "    print(\" \")\n",
        "\n",
        "\"\"\"\n",
        "The prediction results are not that great but not below the par for a simple model like\n",
        "ours. We can improve this performance with models that consider word order like LSTM or\n",
        "even those that use Transformers ([Vaswani et al.](https://arxiv.org/abs/1706.03762)).\n",
        "\"\"\"\n",
        "\n",
        "\"\"\"\n",
        "## Acknowledgements\n",
        "We would like to thank [Matt Watson](https://github.com/mattdangerw) for helping us\n",
        "tackle the multi-label binarization part and inverse-transforming the processed labels\n",
        "to the original form.\n",
        "\"\"\""
      ],
      "metadata": {
        "id": "A-si5tAerm3t",
        "colab": {
          "base_uri": "https://localhost:8080/",
          "height": 276
        },
        "outputId": "686565a1-314d-41b8-8cfa-174849164601"
      },
      "execution_count": 22,
      "outputs": [
        {
          "output_type": "stream",
          "name": "stdout",
          "text": [
            "Abstract: b'DISPLAY DEVICE AND METHOD FOR MANUFACTURING THE SAME, AND LIGHT-EMITTING DEVICE AND METHOD FOR MANUFACTURING THE SAME. A display device which can achieve increased brightness and resolution and a method for manufacturing the same as well as a light-emitting device and a method for manufacturing the same are provided. The device includes a plurality of light-emitting elements having a first face, arranged in units of subpixels, and having at least one of a first electrically conducting electrode and second electrically conducting electrode on the first face, a substrate having an electrode corresponding to the electrode on the first face of the plurality of light-emitting elements, an anisotropic conductive film providing an anisotropic conductive connection between the electrode on the first face of the plurality of light-emitting elements and the electrode of the substrate, and a wavelength conversion member converting a wavelength of light from the light-emitting elements in units of subpixels.. 1. A display device comprising: a plurality of light-emitting elements having a first face, arranged in units of subpixels constituting a pixel, and having at least one of a first electrically conducting electrode and a second electrically conducting electrode on the first face;a substrate having an electrode corresponding to the electrode on the first face of the plurality of light-emitting elements;an anisotropic conductive film providing an anisotropic conductive connection between the electrode on the first face of the plurality of light-emitting elements and the electrode of the substrate; anda wavelength conversion member converting a wavelength of light from the light-emitting elements in units of subpixels.'\n",
            "Label(s): ['H01L']\n",
            "Predicted Label(s): ( G09G, H01L, G02F )\n",
            " \n",
            "Abstract: b'Geo-aware spellchecking and auto-suggest search engines. Systems and methods for generating geo-aware auto-suggestions for searching are provided. Characters corresponding to user input for a search query to a searching service may be processed prior to completion of the search query. Information about a geographical location may be processed. A geographical area of interest and potential correction(s) may be identified. Geo-specific suggestions may be determined based on the search query and/or a selected correction. The geo-specific suggestions may correspond to one or more identified businesses located in the geographical area of interest. The determining the geo-specific suggestions may include identifying business listing information corresponding to the geographical area of interest and the search query and/or a selected correction. The geo-specific suggestions may be indicated as a user-selectable option to complete the search query in a search query field for a search engine and/or to submit to the search engine as a selected search query.. 1. A method for providing geo-aware auto-suggestions for a search engine, the method comprising: processing, by a computing system, one or more characters corresponding to user input, via a user interface, for a search query to a searching service, wherein the processing is prior to completion of the search query, and wherein the searching service comprises one or more information repositories retaining business listing information about a plurality of businesses;detecting, by the computing system, a geographical location of an end-user device;processing, by the computing system, information about the detected geographical location of the end-user device;automatically determining, by the computing system, a geographical area of interest in response to detecting the geographical location of the end-user device;detecting, by the computing system, one or more potential spelling corrections to at least a portion of the search query based at least in part on (a) the one or more characters of the user input corresponding to the search query being detected in real-time prior to completion of the search query, and (b) the determined geographical area of interest;automatically determining, by the computing system, one or more geo-specific suggestions at least partially based on (a) determining a relevancy of the at least the portion of the search query to the determined geographical area of interest and/or (b) a selected correction of the one or more potential spelling corrections to the at least the portion of the search query presented via the user interface, wherein: the one or more geo-specific suggestions correspond to one or more detected locations of identified businesses in the determined geographical area of interest; andautomatically, by the computing system, presenting visible indicia of at least one of the one or more geo-specific suggestions, to the user interface of a display device of the end-user device, as a user-selectable option, by at least one user of the end-user device, to complete the search query in a search query field for a search engine and/or submission of the at least one of the one or more geo-specific suggestions to the search engine as a selected search query.'\n",
            "Label(s): ['G06F']\n",
            "Predicted Label(s): ( G06F )\n",
            " \n",
            "Abstract: b'Graphical user interface element adjustment. A computer-implemented method of graphical user interface element adjustment may include presenting a graphical user interface element that includes an adjustable element that is configured to be moved to adjust a selection of a value between a first end value and a second end value. In response to a movement of the adjustable element to adjust the selection of the value, the computer-implemented method further include obtaining a time for the movement of the adjustable element and selecting the first end value to adjust based on the time. The computer-implemented method may further include determining an updated end value based on the first end value and the time and presenting the updated end value in the graphical user interface element in place of the first end value.. 1. One or more non-transitory computer-readable media configured to store instructions that when executed by one or more processing systems performs operations, the operations comprising: presenting a graphical user interface element that includes a slider line extending between a first end value and a second end value in the graphical user interface element;presenting, on the slider line, an adjustable element that is configured to be moved along the slider line to adjust a selection of a value between the first end value and the second end value;detecting movement of the adjustable element along the slider line to adjust the selection of the value;obtaining a distance of the movement of the adjustable element, a time for the movement of the adjustable element, and a location of the adjustable element after the movement;determining a speed of the movement based on the distance of the movement of the adjustable element and the time for the movement of the adjustable element;selecting the first end value to adjust if the speed is below a threshold and selecting the second end value to adjust if the speed is above the threshold;determining an updated end value based on the selected end value and the speed; andpresenting the updated end value in the graphical user interface element in place of the selected end value.'\n",
            "Label(s): ['G06F']\n",
            "Predicted Label(s): ( G06F )\n",
            " \n"
          ]
        },
        {
          "output_type": "execute_result",
          "data": {
            "text/plain": [
              "'\\n## Acknowledgements\\nWe would like to thank [Matt Watson](https://github.com/mattdangerw) for helping us\\ntackle the multi-label binarization part and inverse-transforming the processed labels\\nto the original form.\\n'"
            ],
            "application/vnd.google.colaboratory.intrinsic+json": {
              "type": "string"
            }
          },
          "metadata": {},
          "execution_count": 22
        }
      ]
    },
    {
      "cell_type": "code",
      "source": [
        ""
      ],
      "metadata": {
        "id": "gmw6Is8nrprz"
      },
      "execution_count": 40,
      "outputs": []
    }
  ]
}